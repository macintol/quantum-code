{
 "metadata": {
  "language_info": {
   "codemirror_mode": {
    "name": "ipython",
    "version": 3
   },
   "file_extension": ".py",
   "mimetype": "text/x-python",
   "name": "python",
   "nbconvert_exporter": "python",
   "pygments_lexer": "ipython3",
   "version": "3.8.5-final"
  },
  "orig_nbformat": 2,
  "kernelspec": {
   "name": "python3",
   "display_name": "Python 3.8.5 64-bit ('quantum-env': venv)",
   "metadata": {
    "interpreter": {
     "hash": "62011fcb5f623b02ba41d46c54a508b393a7e802a936bfa272782d3eaa46b4e5"
    }
   }
  }
 },
 "nbformat": 4,
 "nbformat_minor": 2,
 "cells": [
  {
   "cell_type": "code",
   "execution_count": 1,
   "metadata": {},
   "outputs": [],
   "source": [
    "import numpy as np\n",
    "from qiskit import QuantumCircuit, transpile\n",
    "from qiskit.providers.aer import AerSimulator\n",
    "from qiskit.visualization import plot_histogram, plot_state_city\n",
    "from qiskit.quantum_info import random_statevector, Statevector\n",
    "\n",
    "# Use Aer's qasm_simulator\n",
    "simulator = AerSimulator()"
   ]
  },
  {
   "cell_type": "code",
   "execution_count": 2,
   "metadata": {},
   "outputs": [
    {
     "output_type": "execute_result",
     "data": {
      "text/plain": [
       "          ┌───┐ ░ ┌─┐   \n",
       "q_0: ──■──┤ H ├─░─┤M├───\n",
       "     ┌─┴─┐└───┘ ░ └╥┘┌─┐\n",
       "q_1: ┤ X ├──────░──╫─┤M├\n",
       "     └───┘      ░  ║ └╥┘\n",
       "c: 2/══════════════╩══╩═\n",
       "                   0  1 "
      ],
      "text/html": "<pre style=\"word-wrap: normal;white-space: pre;background: #fff0;line-height: 1.1;font-family: &quot;Courier New&quot;,Courier,monospace\">          ┌───┐ ░ ┌─┐   \nq_0: ──■──┤ H ├─░─┤M├───\n     ┌─┴─┐└───┘ ░ └╥┘┌─┐\nq_1: ┤ X ├──────░──╫─┤M├\n     └───┘      ░  ║ └╥┘\nc: 2/══════════════╩══╩═\n                   0  1 </pre>"
     },
     "metadata": {},
     "execution_count": 2
    }
   ],
   "source": [
    "#setting up the desctructive swap circuit\n",
    "\n",
    "cr = QuantumCircuit(2, 2)\n",
    "\n",
    "cr.cx(0,1)\n",
    "cr.h(0)\n",
    "cr.barrier(range(2))\n",
    "cr.measure(range(2), range(2))\n",
    "\n",
    "cr.draw()"
   ]
  },
  {
   "cell_type": "code",
   "execution_count": 9,
   "metadata": {},
   "outputs": [
    {
     "output_type": "execute_result",
     "data": {
      "text/plain": [
       "     ┌───┐     \n",
       "q_0: ┤ H ├──■──\n",
       "     ├───┤┌─┴─┐\n",
       "q_1: ┤ S ├┤ X ├\n",
       "     ├───┤└───┘\n",
       "q_2: ┤ H ├──■──\n",
       "     ├───┤┌─┴─┐\n",
       "q_3: ┤ S ├┤ X ├\n",
       "     └───┘└───┘"
      ],
      "text/html": "<pre style=\"word-wrap: normal;white-space: pre;background: #fff0;line-height: 1.1;font-family: &quot;Courier New&quot;,Courier,monospace\">     ┌───┐     \nq_0: ┤ H ├──■──\n     ├───┤┌─┴─┐\nq_1: ┤ S ├┤ X ├\n     ├───┤└───┘\nq_2: ┤ H ├──■──\n     ├───┤┌─┴─┐\nq_3: ┤ S ├┤ X ├\n     └───┘└───┘</pre>"
     },
     "metadata": {},
     "execution_count": 9
    }
   ],
   "source": [
    "#make a circuit that generates a \"random\" input state (do same thing to top and bottom state)\n",
    "\n",
    "initial_state = QuantumCircuit(4)\n",
    "\n",
    "initial_state.h([0, 2])\n",
    "initial_state.s([1, 3])\n",
    "initial_state.cx(0, 1)\n",
    "initial_state.cx(2, 3)\n",
    "\n",
    "initial_state.draw()"
   ]
  },
  {
   "cell_type": "code",
   "execution_count": 12,
   "metadata": {},
   "outputs": [
    {
     "output_type": "execute_result",
     "data": {
      "text/plain": [
       "                ░       \n",
       "q_0: ──■────────░───────\n",
       "       │        ░       \n",
       "q_1: ──┼────■───░───────\n",
       "     ┌─┴─┐  │   ░ ┌─┐   \n",
       "q_2: ┤ X ├──┼───░─┤M├───\n",
       "     └───┘┌─┴─┐ ░ └╥┘┌─┐\n",
       "q_3: ─────┤ X ├─░──╫─┤M├\n",
       "          └───┘ ░  ║ └╥┘\n",
       "c: 2/══════════════╩══╩═\n",
       "                   0  1 "
      ],
      "text/html": "<pre style=\"word-wrap: normal;white-space: pre;background: #fff0;line-height: 1.1;font-family: &quot;Courier New&quot;,Courier,monospace\">                ░       \nq_0: ──■────────░───────\n       │        ░       \nq_1: ──┼────■───░───────\n     ┌─┴─┐  │   ░ ┌─┐   \nq_2: ┤ X ├──┼───░─┤M├───\n     └───┘┌─┴─┐ ░ └╥┘┌─┐\nq_3: ─────┤ X ├─░──╫─┤M├\n          └───┘ ░  ║ └╥┘\nc: 2/══════════════╩══╩═\n                   0  1 </pre>"
     },
     "metadata": {},
     "execution_count": 12
    }
   ],
   "source": [
    "#alternate option where we have multiple \n",
    "\n",
    "cr = QuantumCircuit(4, 2)\n",
    "\n",
    "cr.cx(0,2)\n",
    "cr.cx(1,3)\n",
    "#cr.h(0)\n",
    "#cr.h(1)\n",
    "cr.barrier(range(4))\n",
    "#cr.measure(range(4), range(4))\n",
    "cr.measure([2, 3], range(2))\n",
    "\n",
    "cr.draw()"
   ]
  },
  {
   "cell_type": "code",
   "execution_count": 13,
   "metadata": {},
   "outputs": [
    {
     "output_type": "stream",
     "name": "stdout",
     "text": [
      "\nTotal counts are: {'11': 515, '00': 509}\n"
     ]
    }
   ],
   "source": [
    "#basic cirucit compilation\n",
    "\n",
    "#compose the initial state with the measurement circuit\n",
    "full_circuit = cr.compose(initial_state, range(4), front=True)\n",
    "\n",
    "compiled = transpile(full_circuit, simulator)\n",
    "\n",
    "total_shots = 1024\n",
    "\n",
    "job = simulator.run(compiled, shots=total_shots)\n",
    "\n",
    "result = job.result()\n",
    "\n",
    "counts = result.get_counts(compiled)\n",
    "print(\"\\nTotal counts are:\",counts)"
   ]
  },
  {
   "cell_type": "code",
   "execution_count": 14,
   "metadata": {},
   "outputs": [
    {
     "output_type": "stream",
     "name": "stdout",
     "text": [
      "0.4970703125\n"
     ]
    }
   ],
   "source": [
    "#do the post processing, formula for overlap is 1-(2p/N) where p=# 11 measurements N = total_shots\n",
    "\n",
    "if '00' in counts:\n",
    "    p = counts['00']\n",
    "else:\n",
    "    p = 0\n",
    "\n",
    "overlap = p/total_shots\n",
    "\n",
    "print(overlap)\n"
   ]
  },
  {
   "cell_type": "code",
   "execution_count": 11,
   "metadata": {},
   "outputs": [
    {
     "output_type": "stream",
     "name": "stdout",
     "text": [
      "0\n1.0\n"
     ]
    }
   ],
   "source": [
    "#lets look at post processing for the higher dimensional system\n",
    "\n",
    "fails = {'0101', '0111', '1010', '1011', '1101', '1110'}\n",
    "p = 0\n",
    "\n",
    "for i in fails:\n",
    "    if i in counts:\n",
    "        p += counts[i]\n",
    "\n",
    "overlap = 1-2*(p/total_shots)\n",
    "\n",
    "\n",
    "print(p)\n",
    "print(overlap)"
   ]
  },
  {
   "cell_type": "code",
   "execution_count": null,
   "metadata": {},
   "outputs": [],
   "source": []
  }
 ]
}