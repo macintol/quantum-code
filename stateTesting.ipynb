{
 "cells": [
  {
   "cell_type": "code",
   "execution_count": 1,
   "metadata": {},
   "outputs": [],
   "source": [
    "import projectors as pr\n",
    "from importlib import reload\n",
    "from qiskit import QuantumCircuit, BasicAer\n",
    "import numpy as np\n",
    "from scipy.linalg import cossin"
   ]
  },
  {
   "cell_type": "code",
   "execution_count": 3,
   "metadata": {},
   "outputs": [
    {
     "data": {
      "text/plain": [
       "<module 'projectors' from '/Users/lupemacintosh/Documents/Research/quantum-code/projectors.py'>"
      ]
     },
     "execution_count": 3,
     "metadata": {},
     "output_type": "execute_result"
    }
   ],
   "source": [
    "reload(pr)"
   ]
  },
  {
   "cell_type": "code",
   "execution_count": 2,
   "metadata": {},
   "outputs": [],
   "source": [
    "simulator = BasicAer.get_backend(\"statevector_simulator\")\n",
    "unitarySim = BasicAer.get_backend(\"unitary_simulator\")"
   ]
  },
  {
   "cell_type": "code",
   "execution_count": 5,
   "metadata": {},
   "outputs": [
    {
     "data": {
      "text/html": [
       "<pre style=\"word-wrap: normal;white-space: pre;background: #fff0;line-height: 1.1;font-family: &quot;Courier New&quot;,Courier,monospace\">                  ┌───┐   \n",
       "q_0: ───────────■─┤ X ├─■─\n",
       "     ┌───┐┌───┐ │ └─┬─┘ │ \n",
       "q_1: ┤ X ├┤ Z ├─■───■───■─\n",
       "     └───┘└───┘           </pre>"
      ],
      "text/plain": [
       "                  ┌───┐   \n",
       "q_0: ───────────■─┤ X ├─■─\n",
       "     ┌───┐┌───┐ │ └─┬─┘ │ \n",
       "q_1: ┤ X ├┤ Z ├─■───■───■─\n",
       "     └───┘└───┘           "
      ]
     },
     "execution_count": 5,
     "metadata": {},
     "output_type": "execute_result"
    }
   ],
   "source": [
    "test_circuit = pr.QuantumCircuit(2) \n",
    "test_circuit.x([1])\n",
    "test_circuit.z(1)\n",
    "\n",
    "test_circuit.cz(0, 1)\n",
    "test_circuit.cx(1, 0)\n",
    "\n",
    "test_circuit.cz(0, 1)\n",
    "#test_circuit.cx(0,1)\n",
    "\n",
    "\n",
    "\n",
    "\"\"\"\n",
    "test_circuit.h(1)\n",
    "test_circuit.cx(0, 1)\n",
    "test_circuit.h(1)\"\"\"\n",
    "\n",
    "#test_circuit.barrier([0, 1])\n",
    "\n",
    "#test_circuit.measure([0, 1], [0, 1])\n",
    "\n",
    "test_circuit.draw()"
   ]
  },
  {
   "cell_type": "code",
   "execution_count": 6,
   "metadata": {},
   "outputs": [
    {
     "name": "stdout",
     "output_type": "stream",
     "text": [
      "Circuit unitary:\n",
      " [[0.+0.j 0.+0.j 1.-0.j 0.+0.j]\n",
      " [0.+0.j 0.+0.j 0.+0.j 1.-0.j]\n",
      " [0.+0.j 1.-0.j 0.+0.j 0.+0.j]\n",
      " [1.-0.j 0.+0.j 0.+0.j 0.+0.j]]\n"
     ]
    }
   ],
   "source": [
    "trans_circuit = pr.transpile(test_circuit, unitarySim)\n",
    "results = unitarySim.run(trans_circuit).result()\n",
    "unitary = results.get_unitary(trans_circuit)\n",
    "print(\"Circuit unitary:\\n\", np.asarray(unitary).round(5))"
   ]
  },
  {
   "cell_type": "code",
   "execution_count": 108,
   "metadata": {},
   "outputs": [
    {
     "name": "stdout",
     "output_type": "stream",
     "text": [
      "[0.3821-0.595j 0.3821+0.595j 0.    +0.j    0.    +0.j   ]\n"
     ]
    }
   ],
   "source": [
    "(compiled_circuit, results) = pr.run_basic_circuit_sv(test_circuit, simulator)\n",
    "#print(results)\n",
    "\n",
    "statevector = results.get_statevector(compiled_circuit, 4)\n",
    "print(statevector)\n",
    "#percentages = {k: results.get(k) / 1024 for k in ['00', '01', '10', '11']}\n",
    "#print(percentages)"
   ]
  },
  {
   "cell_type": "code",
   "execution_count": 9,
   "metadata": {},
   "outputs": [],
   "source": [
    "Btop = np.array([[0, 0, 1, 0], [0, 1, 0, 0], [0, 0, 0, 1], [1, 0, 0, 0]])\n",
    "u, cs, vdh = cossin(Btop, p=2, q=2)"
   ]
  },
  {
   "cell_type": "code",
   "execution_count": 10,
   "metadata": {},
   "outputs": [
    {
     "name": "stdout",
     "output_type": "stream",
     "text": [
      "[[0. 1. 0. 0.]\n",
      " [1. 0. 0. 0.]\n",
      " [0. 0. 1. 0.]\n",
      " [0. 0. 0. 1.]]\n",
      "[[ 1.000000e+00  0.000000e+00 -0.000000e+00 -0.000000e+00]\n",
      " [ 0.000000e+00  6.123234e-17 -0.000000e+00 -1.000000e+00]\n",
      " [ 0.000000e+00  0.000000e+00  1.000000e+00  0.000000e+00]\n",
      " [ 0.000000e+00  1.000000e+00  0.000000e+00  6.123234e-17]]\n",
      "[[ 0.  1.  0.  0.]\n",
      " [ 1.  0.  0.  0.]\n",
      " [ 0.  0.  0.  1.]\n",
      " [ 0.  0. -1. -0.]]\n"
     ]
    }
   ],
   "source": [
    "print(u)\n",
    "print(cs)\n",
    "print(vdh)"
   ]
  },
  {
   "cell_type": "code",
   "execution_count": 9,
   "metadata": {},
   "outputs": [
    {
     "name": "stdout",
     "output_type": "stream",
     "text": [
      "[[ 6.123234e-17  0.000000e+00  1.000000e+00  0.000000e+00]\n",
      " [ 0.000000e+00  1.000000e+00  0.000000e+00  0.000000e+00]\n",
      " [ 1.000000e+00  0.000000e+00 -6.123234e-17  0.000000e+00]\n",
      " [ 0.000000e+00  0.000000e+00  0.000000e+00  1.000000e+00]]\n"
     ]
    }
   ],
   "source": [
    "NOTC = np.array([[1, 0, 0, 0], [0, 0, 0, 1], [0, 0, 1, 0], [0, 1, 0, 0]])\n",
    "test = np.matmul(u, np.matmul(cs, vdh))\n",
    "print(test)"
   ]
  },
  {
   "cell_type": "code",
   "execution_count": 18,
   "metadata": {},
   "outputs": [],
   "source": [
    "Bbot = np.array([[0, 1, 0, 0], [0, 0, 1, 0], [0, 0, 0, 1], [1, 0, 0, 0]])\n",
    "ub, csb, vdhb = cossin(Bbot, p=2, q=2)"
   ]
  },
  {
   "cell_type": "code",
   "execution_count": 19,
   "metadata": {},
   "outputs": [
    {
     "name": "stdout",
     "output_type": "stream",
     "text": [
      "[[-1.000000e+00  6.123234e-17  0.000000e+00  0.000000e+00]\n",
      " [-6.123234e-17 -1.000000e+00  0.000000e+00  0.000000e+00]\n",
      " [ 0.000000e+00  0.000000e+00 -1.000000e+00  0.000000e+00]\n",
      " [ 0.000000e+00  0.000000e+00 -0.000000e+00  1.000000e+00]]\n",
      "[[ 1.000000e+00  0.000000e+00 -0.000000e+00 -0.000000e+00]\n",
      " [ 0.000000e+00  6.123234e-17 -0.000000e+00 -1.000000e+00]\n",
      " [ 0.000000e+00  0.000000e+00  1.000000e+00  0.000000e+00]\n",
      " [ 0.000000e+00  1.000000e+00  0.000000e+00  6.123234e-17]]\n",
      "[[ 0. -1.  0.  0.]\n",
      " [ 1.  0.  0.  0.]\n",
      " [ 0.  0.  0. -1.]\n",
      " [ 0.  0.  1.  0.]]\n"
     ]
    }
   ],
   "source": [
    "print(ub)\n",
    "print(csb)\n",
    "print(vdhb)"
   ]
  },
  {
   "cell_type": "code",
   "execution_count": null,
   "metadata": {},
   "outputs": [],
   "source": []
  }
 ],
 "metadata": {
  "kernelspec": {
   "display_name": ".venv",
   "language": "python",
   "name": "python3"
  },
  "language_info": {
   "codemirror_mode": {
    "name": "ipython",
    "version": 3
   },
   "file_extension": ".py",
   "mimetype": "text/x-python",
   "name": "python",
   "nbconvert_exporter": "python",
   "pygments_lexer": "ipython3",
   "version": "3.8.5"
  }
 },
 "nbformat": 4,
 "nbformat_minor": 2
}
