{
 "cells": [
  {
   "cell_type": "code",
   "execution_count": 69,
   "metadata": {},
   "outputs": [],
   "source": [
    "import projectors as pr\n",
    "from importlib import reload\n",
    "from qiskit import QuantumCircuit, BasicAer\n"
   ]
  },
  {
   "cell_type": "code",
   "execution_count": 74,
   "metadata": {},
   "outputs": [
    {
     "data": {
      "text/plain": [
       "<module 'projectors' from '/Users/lupemacintosh/Documents/Research/quantum-code/projectors.py'>"
      ]
     },
     "execution_count": 74,
     "metadata": {},
     "output_type": "execute_result"
    }
   ],
   "source": [
    "reload(projectors)"
   ]
  },
  {
   "cell_type": "code",
   "execution_count": 71,
   "metadata": {},
   "outputs": [],
   "source": [
    "simulator = BasicAer.get_backend(\"statevector_simulator\")"
   ]
  },
  {
   "cell_type": "code",
   "execution_count": 83,
   "metadata": {},
   "outputs": [
    {
     "data": {
      "text/html": [
       "<pre style=\"word-wrap: normal;white-space: pre;background: #fff0;line-height: 1.1;font-family: &quot;Courier New&quot;,Courier,monospace\">     ┌───┐┌───────┐┌──────────┐┌───────┐┌─────────┐     ┌──────────┐┌───────┐»\n",
       "q_0: ┤ H ├┤ Rz(2) ├┤ Rz(-π/2) ├┤ Ry(0) ├┤ Rz(π/2) ├──■──┤ Rz(-π/2) ├┤ Ry(0) ├»\n",
       "     └───┘└───────┘└──────────┘└───────┘└─────────┘┌─┴─┐└──────────┘└───────┘»\n",
       "q_1: ──────────────────────────────────────────────┤ X ├─────────────────────»\n",
       "                                                   └───┘                     »\n",
       "c: 2/════════════════════════════════════════════════════════════════════════»\n",
       "                                                                             »\n",
       "«     ┌─────────┐\n",
       "«q_0: ┤ Rz(π/2) ├\n",
       "«     └─────────┘\n",
       "«q_1: ───────────\n",
       "«                \n",
       "«c: 2/═══════════\n",
       "«                </pre>"
      ],
      "text/plain": [
       "     ┌───┐┌───────┐┌──────────┐┌───────┐┌─────────┐     ┌──────────┐┌───────┐»\n",
       "q_0: ┤ H ├┤ Rz(2) ├┤ Rz(-π/2) ├┤ Ry(0) ├┤ Rz(π/2) ├──■──┤ Rz(-π/2) ├┤ Ry(0) ├»\n",
       "     └───┘└───────┘└──────────┘└───────┘└─────────┘┌─┴─┐└──────────┘└───────┘»\n",
       "q_1: ──────────────────────────────────────────────┤ X ├─────────────────────»\n",
       "                                                   └───┘                     »\n",
       "c: 2/════════════════════════════════════════════════════════════════════════»\n",
       "                                                                             »\n",
       "«     ┌─────────┐\n",
       "«q_0: ┤ Rz(π/2) ├\n",
       "«     └─────────┘\n",
       "«q_1: ───────────\n",
       "«                \n",
       "«c: 2/═══════════\n",
       "«                "
      ]
     },
     "execution_count": 83,
     "metadata": {},
     "output_type": "execute_result"
    }
   ],
   "source": [
    "test_circuit = pr.QuantumCircuit(2, 2) \n",
    "test_circuit.h([0])\n",
    "test_circuit.rz(2, 0)\n",
    "pr.add_single_proj_gate(pr.math.pi*0.5, pr.math.pi, test_circuit, 0)\n",
    "test_circuit.cx(0, 1)\n",
    "pr.add_single_proj_gate_conj(pr.math.pi*0.5, pr.math.pi, test_circuit, 0)\n",
    "\n",
    "#test_circuit.barrier([0, 1])\n",
    "\n",
    "#test_circuit.measure([0, 1], [0, 1])\n",
    "\n",
    "test_circuit.draw()"
   ]
  },
  {
   "cell_type": "code",
   "execution_count": 84,
   "metadata": {},
   "outputs": [
    {
     "name": "stdout",
     "output_type": "stream",
     "text": [
      "[0.3821-0.595j 0.    +0.j    0.    +0.j    0.3821+0.595j]\n"
     ]
    }
   ],
   "source": [
    "(compiled_circuit, results) = pr.run_basic_circuit_sv(test_circuit, simulator)\n",
    "#print(results)\n",
    "\n",
    "statevector = results.get_statevector(compiled_circuit, 4)\n",
    "print(statevector)\n",
    "#percentages = {k: results.get(k) / 1024 for k in ['00', '01', '10', '11']}\n",
    "#print(percentages)"
   ]
  }
 ],
 "metadata": {
  "kernelspec": {
   "display_name": ".venv",
   "language": "python",
   "name": "python3"
  },
  "language_info": {
   "codemirror_mode": {
    "name": "ipython",
    "version": 3
   },
   "file_extension": ".py",
   "mimetype": "text/x-python",
   "name": "python",
   "nbconvert_exporter": "python",
   "pygments_lexer": "ipython3",
   "version": "3.8.5"
  }
 },
 "nbformat": 4,
 "nbformat_minor": 2
}
