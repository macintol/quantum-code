{
 "cells": [
  {
   "cell_type": "code",
   "execution_count": 3,
   "metadata": {},
   "outputs": [],
   "source": [
    "#python import statements\n",
    "\n",
    "import numpy as np\n",
    "import matplotlib.pyplot as plt\n",
    "import cmath\n",
    "import math\n",
    "import itertools"
   ]
  },
  {
   "cell_type": "code",
   "execution_count": 4,
   "metadata": {},
   "outputs": [],
   "source": [
    "#qiskit import statements\n",
    "\n",
    "from qiskit import QuantumCircuit, transpile\n",
    "from qiskit.providers.aer import AerSimulator\n",
    "from qiskit.visualization import plot_histogram, plot_state_city\n",
    "from qiskit.quantum_info import random_statevector, Statevector\n",
    "import qiskit.quantum_info as qi\n",
    "from qiskit.circuit import Parameter #allows us to have parameterized gates\n",
    "from qiskit.extensions import UnitaryGate\n",
    "\n",
    "# Use Aer's qasm_simulator\n",
    "simulator = AerSimulator()"
   ]
  },
  {
   "cell_type": "code",
   "execution_count": 5,
   "metadata": {},
   "outputs": [],
   "source": [
    "#helper function that takes in the angle as a parameter and returns the B matrix (B^dagger * B = P)\n",
    "def add_proj_gate(phi, theta, cr):\n",
    "    cr.rz(-1*phi, [0, 3])\n",
    "    cr.ry(theta-math.pi, [0, 3])\n",
    "    cr.rz(phi, [0, 3])\n",
    "\n",
    "def add_proj_gate_conj(phi, theta, cr):\n",
    "    cr.rz(-1*phi, [0, 3])\n",
    "    cr.ry(math.pi-theta, [0, 3])\n",
    "    cr.rz(phi, [0, 3])"
   ]
  },
  {
   "cell_type": "code",
   "execution_count": 4,
   "metadata": {},
   "outputs": [],
   "source": [
    "def make_circuits(phi_1, phi_2, theta_1, theta_2, time):\n",
    "    circuit = QuantumCircuit(6) #need 2N qubits in order to calculate the cost function at the end\n",
    "    circuit.h([0, 3])\n",
    "    circuit.rz(time, [0, 3]) #first time evolution\n",
    "    add_proj_gate_conj(phi_1, theta_1, circuit)\n",
    "    circuit.cx(0, 1)\n",
    "    circuit.cx(3, 4)\n",
    "    add_proj_gate(phi_1, theta_1, circuit)\n",
    "    circuit.rz(time, [0,3]) #second time evolution\n",
    "    add_proj_gate_conj(phi_2, theta_2, circuit)\n",
    "    circuit.cx(0, 2)\n",
    "    circuit.cx(3, 5)\n",
    "    add_proj_gate(phi_2, theta_2, circuit)\n",
    "\n",
    "    measPartial = QuantumCircuit(6, 2) #6 qubits, and 4 classical bits to record outcome\n",
    "    measPartial.barrier(range(6)) #just draws a barrier on the circuit\n",
    "    measPartial.cx(1, 4)\n",
    "    measPartial.cx(2, 5)\n",
    "\n",
    "    measPartial.measure([4, 5], range(2)) #add the two measurements\n",
    "\n",
    "    #smooshing together the acutal circuit and the measurements on the end\n",
    "    qcPartial = measPartial.compose(circuit, range(6), front=True)\n",
    "\n",
    "    measFull = QuantumCircuit(6, 4) #6 qubits, and 4 classical bits to record outcome\n",
    "    measFull.barrier(range(6)) #just draws a barrier on the circuit\n",
    "    measFull.cx(1, 4)\n",
    "    measFull.cx(2, 5)\n",
    "    measFull.h([1, 2])\n",
    "    #the hadamards are to calculate full cost\n",
    "\n",
    "    measFull.measure([1, 2, 4, 5], range(4)) #add the four measurements\n",
    "    #smooshing together the acutal circuit and the measurements on the end\n",
    "    qcFull = measFull.compose(circuit, range(6), front=True)\n",
    "\n",
    "    return(qcPartial, qcFull)"
   ]
  },
  {
   "cell_type": "code",
   "execution_count": 6,
   "metadata": {},
   "outputs": [],
   "source": [
    "def make_test_circuits(phi_1, phi_2, theta_1, theta_2, start, meas):\n",
    "    \"\"\"\n",
    "    Use 'none' for angles of projectors that won't be added. Use 'proj' or 'system' to define what to measure\n",
    "    \"\"\"\n",
    "    circuit = QuantumCircuit(6) #need 2N qubits in order to calculate the cost function at the end\n",
    "    if start == 'bot':\n",
    "        circuit.x([0, 3]) #set which arm it starts in\n",
    "    circuit.ry(math.pi/2, [0, 3]) #first beamsplitter\n",
    "    if phi_1 != 'none':\n",
    "        add_proj_gate_conj(phi_1, theta_1, circuit)\n",
    "        circuit.cx(0, 1)\n",
    "        circuit.cx(3, 4)\n",
    "        add_proj_gate(phi_1, theta_1, circuit)\n",
    "    circuit.ry(-1*math.pi/2, [0,3]) #second beamsplitter\n",
    "    if phi_2 != 'none':\n",
    "        add_proj_gate_conj(phi_2, theta_2, circuit)\n",
    "        circuit.cx(0, 2)\n",
    "        circuit.cx(3, 5)\n",
    "        add_proj_gate(phi_2, theta_2, circuit)\n",
    "\n",
    "    if meas == 'proj':\n",
    "        measTest = QuantumCircuit(6, 2) #6 qubits, and 4 classical bits to record outcome\n",
    "        measTest.barrier(range(6)) #just draws a barrier on the circuit\n",
    "        measTest.measure([4, 5], range(2)) #add the two measurements\n",
    "    elif meas == 'system':\n",
    "        measTest = QuantumCircuit(6, 1) #6 qubits, and 4 classical bits to record outcome\n",
    "        measTest.barrier(range(6)) #just draws a barrier on the circuit\n",
    "        measTest.measure([3], range(1)) #add the two measurements\n",
    "\n",
    "    #smooshing together the acutal circuit and the measurements on the end\n",
    "    qcTest = measTest.compose(circuit, range(6), front=True)\n",
    "\n",
    "    return(qcTest)"
   ]
  },
  {
   "cell_type": "code",
   "execution_count": 5,
   "metadata": {},
   "outputs": [],
   "source": [
    "def bind_parameters(varying_params, qcFull, qcPartial):\n",
    "    first_angle = varying_params[0][0]\n",
    "    second_angle = varying_params[1][0]\n",
    "    first_range = varying_params[0][1]\n",
    "    second_range = varying_params[1][1]\n",
    "    angle_range = list(itertools.product(first_range, second_range))\n",
    "\n",
    "    full_circuits = [qcFull.assign_parameters({first_angle: first_angle_val, second_angle: second_angle_val})\n",
    "            for (first_angle_val, second_angle_val) in angle_range]\n",
    "\n",
    "    partial_circuits = [qcPartial.assign_parameters({first_angle: first_angle_val, second_angle: second_angle_val})\n",
    "            for (first_angle_val, second_angle_val) in angle_range]\n",
    "    return(full_circuits, partial_circuits)"
   ]
  },
  {
   "cell_type": "code",
   "execution_count": 6,
   "metadata": {},
   "outputs": [],
   "source": [
    "fails = {'0101', '0111', '1010', '1011', '1101', '1110'}\n",
    "shots = 1024\n",
    "\n",
    "#this needs to update, this now needs to be run for each element in counts_full and counts_partial which are each lists of count dictionaries\n",
    "#TODO: update to run over all values of phi_1, then both phi_1 and phi_2\n",
    "\n",
    "def compute_cost(full_counts, partial_counts):\n",
    "    p_full = 0\n",
    "    overlap_partial = 0\n",
    "    for i in fails:\n",
    "        if i in full_counts:\n",
    "            p_full += full_counts[i]\n",
    "    overlap_full = 1-2*(p_full/shots)\n",
    "    overlap_partial = partial_counts['00']/shots\n",
    "    return overlap_full-overlap_partial"
   ]
  },
  {
   "cell_type": "code",
   "execution_count": 7,
   "metadata": {},
   "outputs": [],
   "source": [
    "def run_test(in_phi_1, in_phi_2, in_theta_1, in_theta_2, start_in, meas_in):\n",
    "    \n",
    "    qcTest = make_test_circuits(in_phi_1, in_phi_2, in_theta_1, in_theta_2, start_in, meas_in)\n",
    "\n",
    "    compiled_circuit_test = transpile(qcTest, simulator)\n",
    "\n",
    "    # Execute the circuit on the qasm simulator\n",
    "    job_test = simulator.run(compiled_circuit_test, shots=1024)\n",
    "\n",
    "    # Grab results from the job\n",
    "    result_test = job_test.result()\n",
    "\n",
    "    # Returns counts\n",
    "    counts_test = result_test.get_counts()\n",
    "\n",
    "    return(counts_test)"
   ]
  },
  {
   "cell_type": "code",
   "execution_count": 7,
   "metadata": {},
   "outputs": [],
   "source": [
    "def run_simulation(in_phi_1, in_phi_2, in_theta_1, in_theta_2, time):\n",
    "    #this first bit sets what the variable parameters are and sets the rest to the input values\n",
    "    varying_params = []\n",
    "    cost_matrix = np.zeros(32**2)\n",
    "\n",
    "    (phi_1, phi_2, theta_1, theta_2) = (in_phi_1, in_phi_2, in_theta_1, in_theta_2)\n",
    "    if in_phi_1 == \"var\":\n",
    "        phi_1 = Parameter('phi_1')\n",
    "        phi_1_range = np.linspace(-3, 3, 32)\n",
    "        varying_params.append((phi_1, phi_1_range))\n",
    "    if in_phi_2 == \"var\":\n",
    "        phi_2 = Parameter('phi_2')\n",
    "        phi_2_range = np.linspace(-3, 3, 32)\n",
    "        varying_params.append((phi_2, phi_2_range))\n",
    "    if in_theta_1 == \"var\":\n",
    "        theta_1 = Parameter('theta_1')\n",
    "        theta_1_range = np.linspace(0, np.pi, 32)\n",
    "        varying_params.append((theta_1, theta_1_range))\n",
    "    if in_theta_2 == \"var\":\n",
    "        theta_2 = Parameter('theta_2')\n",
    "        theta_2_range = np.linspace(0, np.pi, 32)\n",
    "        varying_params.append((theta_2, theta_2_range))\n",
    "    #this is where we make the circuit\n",
    "    qcPartial, qcFull = make_circuits(phi_1, phi_2, theta_1, theta_2, time)\n",
    "    #bind parameters\n",
    "    full_circuits, partial_circuits = bind_parameters(varying_params, qcFull, qcPartial)\n",
    "    compiled_circuit_partial = transpile(partial_circuits, simulator)\n",
    "\n",
    "    # Execute the circuit on the qasm simulator\n",
    "    job_partial = simulator.run(compiled_circuit_partial, shots=1024)\n",
    "\n",
    "    # Grab results from the job\n",
    "    result_partial = job_partial.result()\n",
    "\n",
    "    # Returns counts\n",
    "    counts_partial = result_partial.get_counts()\n",
    "\n",
    "    # compile the circuit down to low-level QASM instructions\n",
    "    # supported by the backend (not needed for simple circuits)\n",
    "    compiled_circuit_full = transpile(full_circuits, simulator)\n",
    "\n",
    "    # Execute the circuit on the qasm simulator\n",
    "    job_full = simulator.run(compiled_circuit_full, shots=1024)\n",
    "\n",
    "    # Grab results from the job\n",
    "    result_full = job_full.result()\n",
    "\n",
    "    # Returns counts\n",
    "    counts_full = result_full.get_counts()\n",
    "\n",
    "    for i in range(32**2):\n",
    "        cost_matrix[i] = compute_cost(counts_full[i], counts_partial[i])\n",
    "    cost_matrix = np.reshape(cost_matrix, (32, 32))\n",
    "    cost_matrix = np.rot90(cost_matrix)\n",
    "    return cost_matrix, varying_params"
   ]
  },
  {
   "cell_type": "code",
   "execution_count": 8,
   "metadata": {},
   "outputs": [],
   "source": [
    "def visualize_cost(cost_matrix, varying_params):\n",
    "    first_angle = varying_params[0][0]\n",
    "    second_angle = varying_params[1][0]\n",
    "    first_range = varying_params[0][1]\n",
    "    second_range = varying_params[1][1]\n",
    "    plt.imshow(cost_matrix, cmap='hot', interpolation='none', extent=[min(first_range), max(first_range), min(second_range), max(second_range)], vmin=0, vmax=0.4)\n",
    "    plt.xlabel(\"$\\\\\"+str(first_angle)+\"$\")\n",
    "    plt.ylabel(\"$\\\\\"+str(second_angle)+\"$\")\n",
    "    plt.colorbar()\n",
    "    #points = ([-6.404e-02, 1.758e+00], [-8.180e-02, 1.748e+00], [-3.103e-01, 1.816e+00], [-9.638e-05, 2.000e+00], [ 2.812e+00, 2.091e+00],\n",
    "#[ 1.108e-01, 2.059e+00], [ 2.004e+00, 3.099e-01], [-2.603e-01, 1.772e+00], [ 2.518e-01, 2.004e+00], [ 2.448e-04, 1.984e+00])\n",
    "    #x,y = list(zip(*points))\n",
    "    #plt.scatter(x, y)\n",
    "    plt.show() "
   ]
  },
  {
   "cell_type": "code",
   "execution_count": 11,
   "metadata": {},
   "outputs": [
    {
     "name": "stdout",
     "output_type": "stream",
     "text": [
      "{'10': 1024}\n"
     ]
    }
   ],
   "source": [
    "cost = run_test('none', 0, math.pi, 0, 'top', 'proj')\n",
    "print(cost)"
   ]
  }
 ],
 "metadata": {
  "kernelspec": {
   "display_name": "Python 3.8.5 64-bit ('quantum-env')",
   "metadata": {
    "interpreter": {
     "hash": "62011fcb5f623b02ba41d46c54a508b393a7e802a936bfa272782d3eaa46b4e5"
    }
   },
   "name": "python3"
  },
  "language_info": {
   "codemirror_mode": {
    "name": "ipython",
    "version": 3
   },
   "file_extension": ".py",
   "mimetype": "text/x-python",
   "name": "python",
   "nbconvert_exporter": "python",
   "pygments_lexer": "ipython3",
   "version": "3.8.5"
  },
  "orig_nbformat": 2
 },
 "nbformat": 4,
 "nbformat_minor": 2
}
